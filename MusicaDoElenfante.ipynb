{
 "cells": [
  {
   "cell_type": "code",
   "execution_count": 1,
   "metadata": {},
   "outputs": [
    {
     "name": "stdout",
     "output_type": "stream",
     "text": [
      "1 elefante incomoda muita gente\n",
      "2 elefantes  incomodam, incomodam muito mais\n",
      "3 elefante incomoda muita gente\n",
      "4 elefantes  incomodam, incomodam, incomodam, incomodam muito mais\n",
      "5 elefante incomoda muita gente\n",
      "6 elefantes  incomodam, incomodam, incomodam, incomodam, incomodam, incomodam muito mais\n",
      "7 elefante incomoda muita gente\n",
      "8 elefantes  incomodam, incomodam, incomodam, incomodam, incomodam, incomodam, incomodam, incomodam muito mais\n",
      "9 elefante incomoda muita gente\n",
      "10 elefantes  incomodam, incomodam, incomodam, incomodam, incomodam, incomodam, incomodam, incomodam, incomodam, incomodam muito mais\n"
     ]
    }
   ],
   "source": [
    "numero_de_elefantes = int(input(\"Digite o número de elefantes: \"))\n",
    "i = 1\n",
    "while i <= numero_de_elefantes:\n",
    "    if i % 2 == 1:  # Se i for ímpar\n",
    "        print(i, 'elefante incomoda muita gente')\n",
    "    else:  # Se i for par\n",
    "        incomoda = ' incomodam,' * (i - 1) + ' incomodam muito mais'\n",
    "        print(i, 'elefantes', incomoda)\n",
    "    i += 1\n"
   ]
  }
 ],
 "metadata": {
  "kernelspec": {
   "display_name": "Python 3",
   "language": "python",
   "name": "python3"
  },
  "language_info": {
   "codemirror_mode": {
    "name": "ipython",
    "version": 3
   },
   "file_extension": ".py",
   "mimetype": "text/x-python",
   "name": "python",
   "nbconvert_exporter": "python",
   "pygments_lexer": "ipython3",
   "version": "3.12.3"
  }
 },
 "nbformat": 4,
 "nbformat_minor": 2
}
